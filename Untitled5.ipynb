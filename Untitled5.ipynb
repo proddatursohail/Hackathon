{
 "cells": [
  {
   "cell_type": "code",
   "execution_count": null,
   "id": "e6fe7898-0a56-484b-b7b7-4356484a94f3",
   "metadata": {},
   "outputs": [
    {
     "name": "stdin",
     "output_type": "stream",
     "text": [
      "Create a secure password (at least 8 characters, 1 uppercase, 1 number, 1 special character):  Password@123\n",
      "Confirm your password:  Password@123\n"
     ]
    },
    {
     "name": "stdout",
     "output_type": "stream",
     "text": [
      "Password successfully set.\n"
     ]
    },
    {
     "name": "stdin",
     "output_type": "stream",
     "text": [
      "Answer this security question to set up your account: What was the name of your first pet?  bill\n"
     ]
    },
    {
     "name": "stdout",
     "output_type": "stream",
     "text": [
      "Security question answer has been saved.\n"
     ]
    },
    {
     "name": "stdin",
     "output_type": "stream",
     "text": [
      "Enter your password:  Password@123\n"
     ]
    },
    {
     "name": "stdout",
     "output_type": "stream",
     "text": [
      "CAPTCHA Code: gKXhH6\n"
     ]
    }
   ],
   "source": [
    "import hashlib\n",
    "import random\n",
    "import string\n",
    "import re\n",
    "import time\n",
    "\n",
    "# Simulate a database for demo purposes\n",
    "user_db = {\n",
    "    \"password_hash\": None,\n",
    "    \"security_answer\": None,\n",
    "    \"last_login_attempt\": None,\n",
    "    \"failed_attempts\": 0,\n",
    "    \"lockout_until\": None\n",
    "}\n",
    "\n",
    "# Constants\n",
    "PASSWORD_EXPIRATION_DAYS = 90\n",
    "MAX_FAILED_ATTEMPTS = 3\n",
    "LOCKOUT_DURATION_MINUTES = 5\n",
    "SALT = 's3cr3t_salt'  # Ideally, generate a random salt for each user\n",
    "\n",
    "# Level 1: Textual Password\n",
    "def validate_password_format(password):\n",
    "    \"\"\"Validate the password format.\"\"\"\n",
    "    if (len(password) >= 8 and\n",
    "        re.search(r'[A-Z]', password) and  # At least one uppercase letter\n",
    "        re.search(r'\\d', password) and  # At least one digit\n",
    "        re.search(r'[@$!%*?&#]', password)):  # At least one special character\n",
    "        return True\n",
    "    return False\n",
    "\n",
    "def hash_password(password):\n",
    "    \"\"\"Hash the password using SHA-256 with salt.\"\"\"\n",
    "    salted_password = password + SALT\n",
    "    return hashlib.sha256(salted_password.encode()).hexdigest()\n",
    "\n",
    "def verify_password(stored_password_hash, provided_password):\n",
    "    \"\"\"Verify a provided password against the stored hash.\"\"\"\n",
    "    return stored_password_hash == hash_password(provided_password)\n",
    "\n",
    "# Level 2: CAPTCHA Verification\n",
    "def generate_captcha():\n",
    "    \"\"\"Generate a random CAPTCHA string.\"\"\"\n",
    "    letters = string.ascii_letters + string.digits\n",
    "    captcha = ''.join(random.choice(letters) for _ in range(6))\n",
    "    return captcha\n",
    "\n",
    "def verify_captcha(user_captcha, actual_captcha):\n",
    "    \"\"\"Verify the CAPTCHA entered by the user.\"\"\"\n",
    "    return user_captcha == actual_captcha\n",
    "\n",
    "# Level 3: Security Question\n",
    "def verify_security_question(stored_answer, provided_answer):\n",
    "    \"\"\"Verify the answer to the security question.\"\"\"\n",
    "    return stored_answer.lower() == provided_answer.lower()\n",
    "\n",
    "# Level 4: Account Lockout\n",
    "def is_account_locked():\n",
    "    \"\"\"Check if the account is locked due to failed attempts.\"\"\"\n",
    "    if user_db['lockout_until'] and time.time() < user_db['lockout_until']:\n",
    "        return True\n",
    "    return False\n",
    "\n",
    "def handle_login_attempt(successful):\n",
    "    \"\"\"Handle login attempts, including lockout.\"\"\"\n",
    "    if successful:\n",
    "        user_db['failed_attempts'] = 0\n",
    "        user_db['lockout_until'] = None\n",
    "    else:\n",
    "        user_db['failed_attempts'] += 1\n",
    "        if user_db['failed_attempts'] >= MAX_FAILED_ATTEMPTS:\n",
    "            user_db['lockout_until'] = time.time() + (LOCKOUT_DURATION_MINUTES * 60)\n",
    "\n",
    "def register_user():\n",
    "    \"\"\"Handle user registration.\"\"\"\n",
    "    while True:\n",
    "        user_password = input(\"Create a secure password (at least 8 characters, 1 uppercase, 1 number, 1 special character): \")\n",
    "        if validate_password_format(user_password):\n",
    "            confirm_password = input(\"Confirm your password: \")\n",
    "            if user_password != confirm_password:\n",
    "                print(\"Passwords do not match. Please try again.\")\n",
    "            else:\n",
    "                user_db['password_hash'] = hash_password(user_password)\n",
    "                print(\"Password successfully set.\")\n",
    "                break\n",
    "        else:\n",
    "            print(\"Password must include at least 8 characters, an uppercase letter, a number, and a special character.\")\n",
    "\n",
    "    # Security question setup\n",
    "    security_question = \"What was the name of your first pet?\"\n",
    "    security_answer = input(f\"Answer this security question to set up your account: {security_question} \")\n",
    "    user_db['security_answer'] = security_answer\n",
    "    print(\"Security question answer has been saved.\")\n",
    "\n",
    "def login_user():\n",
    "    \"\"\"Handle user login.\"\"\"\n",
    "    while True:\n",
    "        if is_account_locked():\n",
    "            print(\"Your account is temporarily locked due to multiple failed login attempts. Please try again later.\")\n",
    "            time.sleep(LOCKOUT_DURATION_MINUTES * 60)  # Wait during lockout\n",
    "            continue\n",
    "\n",
    "        provided_password = input(\"Enter your password: \")\n",
    "        if verify_password(user_db['password_hash'], provided_password):\n",
    "            handle_login_attempt(True)\n",
    "\n",
    "            # Level 2: CAPTCHA\n",
    "            actual_captcha = generate_captcha()\n",
    "            print(f\"CAPTCHA Code: {actual_captcha}\")\n",
    "            user_captcha = input(\"Enter the CAPTCHA code: \")\n",
    "            if verify_captcha(user_captcha, actual_captcha):\n",
    "                print(\"CAPTCHA code verified.\")\n",
    "\n",
    "                # Level 3: Security Question\n",
    "                security_question = \"What was the name of your first pet?\"\n",
    "                provided_answer = input(f\"Please answer the following security question: {security_question} \")\n",
    "                if verify_security_question(user_db['security_answer'], provided_answer):\n",
    "                    print(\"Security question verified. Access granted.\")\n",
    "                    break\n",
    "                else:\n",
    "                    print(\"Incorrect answer to the security question. Access denied.\")\n",
    "            else:\n",
    "                print(\"Incorrect CAPTCHA code. Access denied.\")\n",
    "        else:\n",
    "            handle_login_attempt(False)\n",
    "            print(\"Incorrect password. Access denied.\")\n",
    "\n",
    "if __name__ == \"__main__\":\n",
    "    # Registration Process\n",
    "    register_user()\n",
    "\n",
    "    # Login Process\n",
    "    login_user()\n"
   ]
  },
  {
   "cell_type": "code",
   "execution_count": null,
   "id": "af8df2bf-bda1-48a2-a362-63f251b4a11f",
   "metadata": {},
   "outputs": [],
   "source": []
  }
 ],
 "metadata": {
  "kernelspec": {
   "display_name": "Python 3 (ipykernel)",
   "language": "python",
   "name": "python3"
  },
  "language_info": {
   "codemirror_mode": {
    "name": "ipython",
    "version": 3
   },
   "file_extension": ".py",
   "mimetype": "text/x-python",
   "name": "python",
   "nbconvert_exporter": "python",
   "pygments_lexer": "ipython3",
   "version": "3.11.7"
  }
 },
 "nbformat": 4,
 "nbformat_minor": 5
}
